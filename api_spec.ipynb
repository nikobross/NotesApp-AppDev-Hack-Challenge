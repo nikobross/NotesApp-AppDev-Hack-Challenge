{
 "cells": [
  {
   "cell_type": "markdown",
   "metadata": {},
   "source": [
    "# Notes API Specification\n",
    "\n",
    "## Base URL\n",
    "`/api/notes/`\n",
    "\n",
    "## Endpoints\n",
    "\n",
    "### 1. Get All Notes\n",
    "- **URL:** `/api/notes/`\n",
    "- **Method:** `GET`\n",
    "- **Description:** Retrieve all notes.\n",
    "- **Response:**\n",
    "  - **Success:** `200 OK`\n",
    "\n",
    "```json\n",
    "{\n",
    "  \"notes\": [\n",
    "    {\n",
    "      \"id\": 1,\n",
    "      \"title\": \"Note Title\",\n",
    "      \"content\": \"Note Content\",\n",
    "      \"date\": \"2023-10-01\",\n",
    "      \"user_id\": 1\n",
    "    },\n",
    "    ...\n",
    "  ]\n",
    "}"
   ]
  },
  {
   "cell_type": "markdown",
   "metadata": {},
   "source": [
    "### 2. Get Specific Note\n",
    "- **URL:** `/api/notes/<int:note_id>/`\n",
    "- **Method:** `GET`\n",
    "- **Description:** Retrieve a specific note by its ID.\n",
    "- **Response:**\n",
    "  - **Success:** `200 OK`\n",
    "\n",
    "```json\n",
    "{\n",
    "  \"id\": 1,\n",
    "  \"title\": \"Note Title\",\n",
    "  \"content\": \"Note Content\",\n",
    "  \"date\": \"2023-10-01\",\n",
    "  \"user_id\": 1\n",
    "}"
   ]
  },
  {
   "cell_type": "markdown",
   "metadata": {},
   "source": [
    "### 3. Create Note\n",
    "\n",
    "- **URL:** `/api/notes/`\n",
    "- **Method:** `POST`\n",
    "- **Description:** Create a new note.\n",
    "- **Request Body:**\n",
    "\n",
    "\n",
    "```json\n",
    "{\n",
    "  \"title\": \"Note Title\",\n",
    "  \"content\": \"Note Content\",\n",
    "  \"user_id\": 1\n",
    "}\n",
    "```\n",
    "\n",
    "- **Response:**\n",
    "  - **Success:** `201 Created`\n",
    "\n",
    "\n",
    "```json\n",
    "{\n",
    "  \"id\": 1,\n",
    "  \"title\": \"Note Title\",\n",
    "  \"content\": \"Note Content\",\n",
    "  \"date\": \"2023-10-01\",\n",
    "  \"user_id\": 1\n",
    "}"
   ]
  },
  {
   "cell_type": "markdown",
   "metadata": {},
   "source": [
    "### 4. Update Note\n",
    "- **URL:** `/api/update-note/<int:note_id>/`\n",
    "- **Method:** `POST`\n",
    "- **Description:** Update an existing note.\n",
    "- **Response:**\n",
    "  - **Success:** `200 OK`\n",
    "\n",
    "```json\n",
    "{\n",
    "  \"id\": 1,\n",
    "  \"title\": \"Updated Note Title\",\n",
    "  \"content\": \"Updated Note Content\",\n",
    "  \"date\": \"2023-10-01\",\n",
    "  \"user_id\": 1\n",
    "}"
   ]
  },
  {
   "cell_type": "markdown",
   "metadata": {},
   "source": [
    "### 5. Delete Note\n",
    "- **URL:** `/api/notes/<int:note_id>/`\n",
    "- **Method:** `DELETE`\n",
    "- **Description:** Delete a specific note by its ID.\n",
    "- **Response:**\n",
    "  - **Success:** `200 OK`\n",
    "\n",
    "```json\n",
    "{\n",
    "  \"id\": 1,\n",
    "  \"title\": \"Note Title\",\n",
    "  \"content\": \"Note Content\",\n",
    "  \"date\": \"2023-10-01\",\n",
    "  \"user_id\": 1\n",
    "}"
   ]
  },
  {
   "cell_type": "markdown",
   "metadata": {},
   "source": [
    "### 6. Delete Note\n",
    "- **URL:** `/api/user/<int:user_id>/notes/`\n",
    "- **Method:** `GET`\n",
    "- **Description:** Retrieve all notes for a specific user.\n",
    "- **Response:**\n",
    "  - **Success:** `200 OK`\n",
    "\n",
    "```json\n",
    "{\n",
    "  \"notes\": [\n",
    "    {\n",
    "      \"id\": 1,\n",
    "      \"title\": \"Note Title\",\n",
    "      \"content\": \"Note Content\",\n",
    "      \"date\": \"2023-10-01\",\n",
    "      \"user_id\": 1\n",
    "    },\n",
    "    ...\n",
    "  ]\n",
    "}"
   ]
  }
 ],
 "metadata": {
  "language_info": {
   "name": "python"
  }
 },
 "nbformat": 4,
 "nbformat_minor": 2
}
